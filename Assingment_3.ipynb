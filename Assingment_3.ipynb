{
 "cells": [
  {
   "cell_type": "markdown",
   "id": "7ca3f0e8",
   "metadata": {},
   "source": [
    "1. Why are functions advantageous to have in your programs?"
   ]
  },
  {
   "cell_type": "code",
   "execution_count": null,
   "id": "dbcd1084",
   "metadata": {},
   "outputs": [],
   "source": [
    "Functions reduce the need for duplicate code. This makes programs shorter, easier to read, and \n",
    "easier to update. ... A function call is what moves the program execution into the function, and \n",
    "the function call evaluates to the function's return value."
   ]
  },
  {
   "cell_type": "markdown",
   "id": "2a951be2",
   "metadata": {},
   "source": [
    "2.When does the code in a function run: when it's specified or when it's called?"
   ]
  },
  {
   "cell_type": "code",
   "execution_count": null,
   "id": "010c0d47",
   "metadata": {},
   "outputs": [],
   "source": [
    "Now, whenever a function is called a new stack frame is created with all the function’s data and \n",
    "this stack frame is pushed in the program stack, and the stack pointer that always points the top \n",
    "of the program stack points the stack frame pushed as it is on the top of the program stack"
   ]
  },
  {
   "cell_type": "markdown",
   "id": "bc85cfb1",
   "metadata": {},
   "source": [
    "3. What statement creates a function?"
   ]
  },
  {
   "cell_type": "code",
   "execution_count": null,
   "id": "39d699dd",
   "metadata": {},
   "outputs": [],
   "source": [
    "the Statement is -->def  "
   ]
  },
  {
   "cell_type": "markdown",
   "id": "376b1281",
   "metadata": {},
   "source": [
    "4. What is the difference between a function and a function call?"
   ]
  },
  {
   "cell_type": "code",
   "execution_count": null,
   "id": "c4b4a9cc",
   "metadata": {},
   "outputs": [],
   "source": [
    "A function is procedure to achieve a particular result\n",
    "while function call is using this function to achive that task."
   ]
  },
  {
   "cell_type": "markdown",
   "id": "cbaef10c",
   "metadata": {},
   "source": [
    "5. How many global scopes are there in a Python program? How many local scopes?"
   ]
  },
  {
   "cell_type": "code",
   "execution_count": null,
   "id": "f60ff846",
   "metadata": {},
   "outputs": [],
   "source": [
    "There's only one global Python scope per program execution\n",
    "\n",
    "Python searches three scopes—the local (L), then the global (G), and then the built-in (B)"
   ]
  },
  {
   "cell_type": "markdown",
   "id": "ba86f5da",
   "metadata": {},
   "source": [
    "6. What happens to variables in a local scope when the function call returns?"
   ]
  },
  {
   "cell_type": "code",
   "execution_count": null,
   "id": "7beb48ef",
   "metadata": {},
   "outputs": [],
   "source": [
    "When the execution of the function terminates (returns), the local variables are destroyed."
   ]
  },
  {
   "cell_type": "markdown",
   "id": "15d5872a",
   "metadata": {},
   "source": [
    "7. What is the concept of a return value? Is it possible to have a return value in an expression?"
   ]
  },
  {
   "cell_type": "code",
   "execution_count": null,
   "id": "80505d1d",
   "metadata": {},
   "outputs": [],
   "source": [
    "A return statement is used to end the execution of the function call and \n",
    "“returns” the result to the caller"
   ]
  },
  {
   "cell_type": "markdown",
   "id": "c7a7a69f",
   "metadata": {},
   "source": [
    "8. If a function does not have a return statement, what is the return value of a call to that function?"
   ]
  },
  {
   "cell_type": "code",
   "execution_count": null,
   "id": "45874f69",
   "metadata": {},
   "outputs": [],
   "source": [
    "In Python, every function returns something. If there are no return statements, then it returns None"
   ]
  },
  {
   "cell_type": "markdown",
   "id": "2f0be5fa",
   "metadata": {},
   "source": [
    "9. How do you make a function variable refer to the global variable?"
   ]
  },
  {
   "cell_type": "code",
   "execution_count": null,
   "id": "9d2a0ae4",
   "metadata": {},
   "outputs": [],
   "source": [
    "If you want to refer to a global variable in a function, \n",
    "you can use the global keyword to declare which variables are global."
   ]
  },
  {
   "cell_type": "markdown",
   "id": "a37b5993",
   "metadata": {},
   "source": [
    "10. What is the data type of None?"
   ]
  },
  {
   "cell_type": "code",
   "execution_count": null,
   "id": "0675a033",
   "metadata": {},
   "outputs": [],
   "source": [
    "The None keyword is used to define a null variable or an object."
   ]
  },
  {
   "cell_type": "markdown",
   "id": "4ea8095b",
   "metadata": {},
   "source": [
    "11. What does the sentence import areallyourpetsnamederic do?"
   ]
  },
  {
   "cell_type": "code",
   "execution_count": null,
   "id": "533e5656",
   "metadata": {},
   "outputs": [],
   "source": [
    "That import statement imports a module named areallyourpetsnamederic."
   ]
  },
  {
   "cell_type": "markdown",
   "id": "b7314339",
   "metadata": {},
   "source": [
    "12. If you had a bacon() feature in a spam module, what would you call it after importing spam?"
   ]
  },
  {
   "cell_type": "code",
   "execution_count": null,
   "id": "40d6ca84",
   "metadata": {},
   "outputs": [],
   "source": [
    "This function can be called with spam. bacon()"
   ]
  },
  {
   "cell_type": "markdown",
   "id": "5265e000",
   "metadata": {},
   "source": [
    "13. What can you do to save a programme from crashing if it encounters an error?"
   ]
  },
  {
   "cell_type": "code",
   "execution_count": null,
   "id": "b185854f",
   "metadata": {},
   "outputs": [],
   "source": [
    "When it encounters an error, the control is passed to the except block, skipping the code in between.\n",
    "As seen in the above code,we have moved our code inside a try and except statement.\n",
    "Try running the program and it should throw an error message instead of crashing the program."
   ]
  },
  {
   "cell_type": "markdown",
   "id": "390eb10e",
   "metadata": {},
   "source": [
    "14. What is the purpose of the try clause? What is the purpose of the except clause?"
   ]
  },
  {
   "cell_type": "code",
   "execution_count": null,
   "id": "53269dba",
   "metadata": {},
   "outputs": [],
   "source": [
    "The try block lets you test a block of code for errors. The except block lets you handle the error. \n",
    "The else block lets you execute code when there is no error."
   ]
  }
 ],
 "metadata": {
  "kernelspec": {
   "display_name": "Python 3",
   "language": "python",
   "name": "python3"
  },
  "language_info": {
   "codemirror_mode": {
    "name": "ipython",
    "version": 3
   },
   "file_extension": ".py",
   "mimetype": "text/x-python",
   "name": "python",
   "nbconvert_exporter": "python",
   "pygments_lexer": "ipython3",
   "version": "3.8.8"
  }
 },
 "nbformat": 4,
 "nbformat_minor": 5
}
