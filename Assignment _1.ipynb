{
 "cells": [
  {
   "cell_type": "markdown",
   "id": "4f1b0c7a",
   "metadata": {},
   "source": [
    "## Assignment_1"
   ]
  },
  {
   "cell_type": "markdown",
   "id": "6c4f0693",
   "metadata": {},
   "source": [
    "1. In the below elements which of them are values or an expression? eg:- values can be\n",
    "integer or string and expressions will be mathematical operators.\n",
    "\n",
    "*\n",
    "\n",
    "\"hello\"\n",
    "\n",
    "-87.8\n",
    "\n",
    "-\n",
    "\n",
    "/\n",
    "\n",
    "+\n",
    "\n",
    "6\n"
   ]
  },
  {
   "cell_type": "code",
   "execution_count": null,
   "id": "f6b653ef",
   "metadata": {},
   "outputs": [],
   "source": [
    "*   => Muliplication operator  => Mathematical operator\n",
    "\"hello\" => string         => Value\n",
    "-87.6  => Negative Decimal Number => Number\n",
    "- => Subsraction operator => Mathematical operator\n",
    "/ => Division opertor     => Mathematical operator\n",
    "+ => Addition operator    => Mathematical operator\n",
    "6 => Integer              => Number\n"
   ]
  },
  {
   "cell_type": "markdown",
   "id": "8f13bb0f",
   "metadata": {},
   "source": [
    "2. What is the difference between string and variable?"
   ]
  },
  {
   "cell_type": "code",
   "execution_count": null,
   "id": "0749206f",
   "metadata": {},
   "outputs": [],
   "source": [
    "String is any type of character with single or double code\n",
    "Variable is an entity which can stores the values"
   ]
  },
  {
   "cell_type": "markdown",
   "id": "ee4e35cc",
   "metadata": {},
   "source": [
    "3. Describe three different data types."
   ]
  },
  {
   "cell_type": "code",
   "execution_count": null,
   "id": "2539ebe7",
   "metadata": {},
   "outputs": [],
   "source": [
    "intiger=> whole number =>exampals..-5,10,0,123\n",
    "floating point =>fractional numbers =>exampals...-87.5,0.0,3.143\n",
    "string => a sequence of character =>exampals...\"hello world\""
   ]
  },
  {
   "cell_type": "markdown",
   "id": "b7f8da5d",
   "metadata": {},
   "source": [
    "4.What is an expression made up of? What do all expressions do?"
   ]
  },
  {
   "cell_type": "code",
   "execution_count": null,
   "id": "6338d7cd",
   "metadata": {},
   "outputs": [],
   "source": [
    "An expression is a construct made up of variables, operators, and method invocations, \n",
    "which are constructed according to the syntax of the language, that evaluates to a single value"
   ]
  },
  {
   "cell_type": "markdown",
   "id": "064b7634",
   "metadata": {},
   "source": [
    "5. This assignment statements, like spam = 10. What is the difference between an\n",
    "expression and a statement?"
   ]
  },
  {
   "cell_type": "code",
   "execution_count": null,
   "id": "a3bcc461",
   "metadata": {},
   "outputs": [],
   "source": [
    "An expression evaluates to a value\n",
    "An expression is something that can be reduced to a value, for example \"1+3\" is an expression\n",
    "but \"foo = 1+3\" is not.\n",
    "A statement does something\n",
    "\n"
   ]
  },
  {
   "cell_type": "markdown",
   "id": "680089cb",
   "metadata": {},
   "source": [
    "6. After running the following code, what does the variable bacon contain?\n",
    "bacon = 22\n",
    "bacon + 1"
   ]
  },
  {
   "cell_type": "code",
   "execution_count": 2,
   "id": "03c14b34",
   "metadata": {},
   "outputs": [
    {
     "name": "stdout",
     "output_type": "stream",
     "text": [
      "after running the value is: 22\n"
     ]
    }
   ],
   "source": [
    "bacon=22\n",
    "bacon+1\n",
    "bacon\n",
    "print(\"after running the value is:\",bacon)\n",
    "# after running the value is: 22"
   ]
  },
  {
   "cell_type": "markdown",
   "id": "1a3a529f",
   "metadata": {},
   "source": [
    "7. What should the values of the following two terms be?\n",
    "\n",
    "\"spam\"+\"spamspam\"\n",
    "\n",
    "\"spam\"*3"
   ]
  },
  {
   "cell_type": "code",
   "execution_count": 3,
   "id": "8c7d9fef",
   "metadata": {},
   "outputs": [
    {
     "name": "stdout",
     "output_type": "stream",
     "text": [
      "spamspamspam\n",
      "spamspamspam\n"
     ]
    }
   ],
   "source": [
    "print(\"spam\"+\"spamspam\")\n",
    "print(\"spam\"*3)\n",
    "# the answer is\n",
    "# spamspamspam\n",
    "# spamspamspam"
   ]
  },
  {
   "cell_type": "markdown",
   "id": "9f628e2b",
   "metadata": {},
   "source": [
    "8. Why is eggs a valid variable name while 100 is invalid?"
   ]
  },
  {
   "cell_type": "code",
   "execution_count": 5,
   "id": "075983ec",
   "metadata": {},
   "outputs": [],
   "source": [
    "Because variable names cannot begin with a number."
   ]
  },
  {
   "cell_type": "markdown",
   "id": "814a1f9f",
   "metadata": {},
   "source": [
    "9. What three functions can be used to get the integer, floating-point number, or string\n",
    "version of a value?"
   ]
  },
  {
   "cell_type": "code",
   "execution_count": null,
   "id": "b92634c1",
   "metadata": {},
   "outputs": [],
   "source": [
    "The int() , float() , and str( ) functions will evaluate to the integer, floating-point number,\n",
    "and string versions of the value passed to them"
   ]
  },
  {
   "cell_type": "markdown",
   "id": "a1f11bbe",
   "metadata": {},
   "source": [
    "10. Why does this expression cause an error? How can you fix it?\n",
    "\"I have eaten\" + 99 +  \"burritos\""
   ]
  },
  {
   "cell_type": "code",
   "execution_count": null,
   "id": "cfb90800",
   "metadata": {},
   "outputs": [],
   "source": [
    "In this expression we get the TypeError\n",
    "Because cancatination only supports strigs or integer not both"
   ]
  },
  {
   "cell_type": "code",
   "execution_count": 6,
   "id": "06b008f9",
   "metadata": {},
   "outputs": [
    {
     "ename": "TypeError",
     "evalue": "can only concatenate str (not \"int\") to str",
     "output_type": "error",
     "traceback": [
      "\u001b[1;31m---------------------------------------------------------------------------\u001b[0m",
      "\u001b[1;31mTypeError\u001b[0m                                 Traceback (most recent call last)",
      "\u001b[1;32m<ipython-input-6-8cd3b659d16f>\u001b[0m in \u001b[0;36m<module>\u001b[1;34m\u001b[0m\n\u001b[1;32m----> 1\u001b[1;33m \u001b[1;34m\"I have eaten\"\u001b[0m \u001b[1;33m+\u001b[0m \u001b[1;36m99\u001b[0m \u001b[1;33m+\u001b[0m \u001b[1;34m\"burritos\"\u001b[0m\u001b[1;33m\u001b[0m\u001b[1;33m\u001b[0m\u001b[0m\n\u001b[0m",
      "\u001b[1;31mTypeError\u001b[0m: can only concatenate str (not \"int\") to str"
     ]
    }
   ],
   "source": [
    "\"I have eaten\" + 99 + \"burritos\""
   ]
  }
 ],
 "metadata": {
  "kernelspec": {
   "display_name": "Python 3",
   "language": "python",
   "name": "python3"
  },
  "language_info": {
   "codemirror_mode": {
    "name": "ipython",
    "version": 3
   },
   "file_extension": ".py",
   "mimetype": "text/x-python",
   "name": "python",
   "nbconvert_exporter": "python",
   "pygments_lexer": "ipython3",
   "version": "3.8.8"
  }
 },
 "nbformat": 4,
 "nbformat_minor": 5
}
