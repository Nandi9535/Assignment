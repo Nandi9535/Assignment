{
 "cells": [
  {
   "cell_type": "markdown",
   "id": "25159d7e",
   "metadata": {},
   "source": [
    "1.What are the two values of the Boolean data type? How do you write them?"
   ]
  },
  {
   "cell_type": "code",
   "execution_count": 5,
   "id": "48ef4032",
   "metadata": {},
   "outputs": [
    {
     "name": "stdout",
     "output_type": "stream",
     "text": [
      "False\n",
      "True\n"
     ]
    }
   ],
   "source": [
    "# It has two possible values: true and false \n",
    "print(1==0)\n",
    "print(1==1)"
   ]
  },
  {
   "cell_type": "markdown",
   "id": "ffa5dd56",
   "metadata": {},
   "source": [
    "2. What are the three different types of Boolean operators?"
   ]
  },
  {
   "cell_type": "code",
   "execution_count": null,
   "id": "5bff4939",
   "metadata": {},
   "outputs": [],
   "source": [
    "The three basic boolean operators are: AND, OR, and NOT."
   ]
  },
  {
   "cell_type": "markdown",
   "id": "2d6691b7",
   "metadata": {},
   "source": [
    "3. Make a list of each Boolean operator&#39;s truth tables (i.e. every possible combination of Boolean\n",
    "values for the operator and what it evaluate )."
   ]
  },
  {
   "cell_type": "markdown",
   "id": "4cd639e4",
   "metadata": {},
   "source": [
    "   \n",
    "    A  B   AND  OR  NOT(A)\n",
    "    \n",
    "    0  0    0    0   1\n",
    "    \n",
    "    0  1    0    1   1 \n",
    "    \n",
    "    1  0    0    1   0\n",
    "    \n",
    "    1  1    1    1   0"
   ]
  },
  {
   "cell_type": "markdown",
   "id": "21c1f4c0",
   "metadata": {},
   "source": [
    "4. What are the values of the following expressions?\n",
    "(5 &gt; 4) and (3 == 5)\n",
    "\n",
    "not (5 &gt; 4)\n",
    "\n",
    "(5 &gt; 4) or (3 == 5)\n",
    "\n",
    "not ((5 &gt; 4) or (3 == 5))\n",
    "\n",
    "(True and True) and (True == False)\n",
    "\n",
    "(not False) or (not True)"
   ]
  },
  {
   "cell_type": "code",
   "execution_count": 6,
   "id": "421fd558",
   "metadata": {},
   "outputs": [
    {
     "data": {
      "text/plain": [
       "False"
      ]
     },
     "execution_count": 6,
     "metadata": {},
     "output_type": "execute_result"
    }
   ],
   "source": [
    "not(5>4)"
   ]
  },
  {
   "cell_type": "code",
   "execution_count": 7,
   "id": "ba0a4fec",
   "metadata": {},
   "outputs": [
    {
     "data": {
      "text/plain": [
       "True"
      ]
     },
     "execution_count": 7,
     "metadata": {},
     "output_type": "execute_result"
    }
   ],
   "source": [
    "(5>4) or (3==5)"
   ]
  },
  {
   "cell_type": "code",
   "execution_count": 8,
   "id": "bd311224",
   "metadata": {},
   "outputs": [
    {
     "data": {
      "text/plain": [
       "False"
      ]
     },
     "execution_count": 8,
     "metadata": {},
     "output_type": "execute_result"
    }
   ],
   "source": [
    "not((5>4) or (3==5))"
   ]
  },
  {
   "cell_type": "code",
   "execution_count": 9,
   "id": "c77eb024",
   "metadata": {},
   "outputs": [
    {
     "data": {
      "text/plain": [
       "False"
      ]
     },
     "execution_count": 9,
     "metadata": {},
     "output_type": "execute_result"
    }
   ],
   "source": [
    "(True and True) and (True == False)"
   ]
  },
  {
   "cell_type": "code",
   "execution_count": 10,
   "id": "c5f8db4e",
   "metadata": {},
   "outputs": [
    {
     "data": {
      "text/plain": [
       "True"
      ]
     },
     "execution_count": 10,
     "metadata": {},
     "output_type": "execute_result"
    }
   ],
   "source": [
    "(not False) or (not True)"
   ]
  },
  {
   "cell_type": "markdown",
   "id": "fb4d71c8",
   "metadata": {},
   "source": [
    "5. What are the six comparison operators?"
   ]
  },
  {
   "cell_type": "code",
   "execution_count": null,
   "id": "9a3e2235",
   "metadata": {},
   "outputs": [],
   "source": [
    "There are six main comparison operators: \n",
    "    equal to, not equal to, greater than, greater than or equal to, less than,\n",
    "    and less than or equal to"
   ]
  },
  {
   "cell_type": "markdown",
   "id": "719e3b43",
   "metadata": {},
   "source": [
    "6. How do you tell the difference between the equal to and assignment operators?Describe a\n",
    "condition and when you would use one."
   ]
  },
  {
   "cell_type": "code",
   "execution_count": null,
   "id": "8e8d5555",
   "metadata": {},
   "outputs": [],
   "source": [
    "The “=” is an assignment operator is used to assign the value on the right to the variable on the left.\n",
    "The '==' operator checks whether the two given operands are equal or not. If so, it returns true. \n",
    "Otherwise it returns false"
   ]
  },
  {
   "cell_type": "markdown",
   "id": "4cfd839e",
   "metadata": {},
   "source": [
    "7. Identify the three blocks in this code:\n",
    "\n",
    "spam = 0\n",
    "\n",
    "if spam == 10:\n",
    "\n",
    "print(&#39;eggs&#39;)\n",
    "\n",
    "if spam &gt; 5:\n",
    "\n",
    "print(&#39;bacon&#39;)\n",
    "\n",
    "else:\n",
    "\n",
    "print(&#39;ham&#39;)\n",
    "\n",
    "print(&#39;spam&#39;)\n",
    "\n",
    "print(&#39;spam&#39;)"
   ]
  },
  {
   "cell_type": "code",
   "execution_count": null,
   "id": "bc42cd70",
   "metadata": {},
   "outputs": [],
   "source": [
    "first block==>\n",
    "      if spam==10 ;print(\"eggs\")\n",
    "secound block==>\n",
    "     if spam>5 ; print(\"bacon\")\n",
    "third block==>\n",
    "     if anything ; print(\"ham\");print('spam');print('spam')"
   ]
  },
  {
   "cell_type": "markdown",
   "id": "b18298a6",
   "metadata": {},
   "source": [
    "8. Write code that prints Hello if 1 is stored in spam, prints Howdy if 2 is stored in spam,\n",
    "and prints Greetings! if anything else is stored in spam."
   ]
  },
  {
   "cell_type": "code",
   "execution_count": 26,
   "id": "bcbb6f65",
   "metadata": {},
   "outputs": [
    {
     "name": "stdout",
     "output_type": "stream",
     "text": [
      "enter the number:5\n",
      "Greetings\n"
     ]
    }
   ],
   "source": [
    "code=eval(input('enter the number:'))\n",
    "if code==1:\n",
    "    print(\"Hello\")\n",
    "elif code==2:\n",
    "    print(\"Howday\")\n",
    "else:\n",
    "    print('Greetings')"
   ]
  },
  {
   "cell_type": "markdown",
   "id": "769c6816",
   "metadata": {},
   "source": [
    "9.If your programme is stuck in an endless loop, what keys you’ll press?"
   ]
  },
  {
   "cell_type": "code",
   "execution_count": null,
   "id": "fc87ce20",
   "metadata": {},
   "outputs": [],
   "source": [
    "use the :ctr + c"
   ]
  },
  {
   "cell_type": "markdown",
   "id": "bbdaebad",
   "metadata": {},
   "source": [
    "10. How can you tell the difference between break and continue?"
   ]
  },
  {
   "cell_type": "code",
   "execution_count": null,
   "id": "ca169db6",
   "metadata": {},
   "outputs": [],
   "source": [
    "The main difference between break and continue statement is that :\n",
    "when break keyword is encountered,it will exit the loop. \n",
    "In case of continue keyword,the current iteration that is running will be \n",
    "stopped, and it will proceed with the next iteration."
   ]
  },
  {
   "cell_type": "markdown",
   "id": "d09e2f5b",
   "metadata": {},
   "source": [
    "11. In a for loop, what is the difference between range(10), range(0, 10), and range(0, 10, 1)?"
   ]
  },
  {
   "cell_type": "code",
   "execution_count": 37,
   "id": "1d920709",
   "metadata": {},
   "outputs": [
    {
     "name": "stdout",
     "output_type": "stream",
     "text": [
      "0\n",
      "1\n",
      "2\n",
      "3\n",
      "4\n",
      "5\n",
      "6\n",
      "7\n",
      "8\n",
      "9\n"
     ]
    }
   ],
   "source": [
    "# Python range() function generates the immutable sequence of numbers starting from the given start \n",
    "# integer to the stop integer\n",
    "\n",
    "for i in range(10): #it will take initial zero to start and end at 10-1 with step size default is 1\n",
    "    print(i)\n",
    "    \n",
    "for i in range(0,10) #start with 0 and end with 10-1 ,default stepsize is 1\n",
    "\n",
    "for i in range(0,10,1) # start with 0 and end with 10-1 ,mentioned stepsize is 1\n",
    "\n",
    "# three equation are same output"
   ]
  },
  {
   "cell_type": "markdown",
   "id": "440f640e",
   "metadata": {},
   "source": [
    "12. Write a short program that prints the numbers 1 to 10 using a for loop. Then write an equivalent\n",
    "program that prints the numbers 1 to 10 using a while loop."
   ]
  },
  {
   "cell_type": "code",
   "execution_count": 38,
   "id": "3ec5992f",
   "metadata": {},
   "outputs": [
    {
     "name": "stdout",
     "output_type": "stream",
     "text": [
      "1\n",
      "2\n",
      "3\n",
      "4\n",
      "5\n",
      "6\n",
      "7\n",
      "8\n",
      "9\n",
      "10\n"
     ]
    }
   ],
   "source": [
    "for i in range(1,11):\n",
    "    print(i)"
   ]
  },
  {
   "cell_type": "code",
   "execution_count": 41,
   "id": "0193e70a",
   "metadata": {},
   "outputs": [
    {
     "name": "stdout",
     "output_type": "stream",
     "text": [
      "1\n",
      "2\n",
      "3\n",
      "4\n",
      "5\n",
      "6\n",
      "7\n",
      "8\n",
      "9\n",
      "10\n",
      "11\n"
     ]
    }
   ],
   "source": [
    "i=1\n",
    "n=11\n",
    "while i<=n:\n",
    "    print(i)\n",
    "    i=i+1"
   ]
  },
  {
   "cell_type": "markdown",
   "id": "fa6bc654",
   "metadata": {},
   "source": [
    "13. If you had a function named bacon() inside a module named spam, how would you call it after\n",
    "importing spam?"
   ]
  },
  {
   "cell_type": "code",
   "execution_count": null,
   "id": "8c5db846",
   "metadata": {},
   "outputs": [],
   "source": [
    "This function can be called with spam.bacon()"
   ]
  }
 ],
 "metadata": {
  "kernelspec": {
   "display_name": "Python 3",
   "language": "python",
   "name": "python3"
  },
  "language_info": {
   "codemirror_mode": {
    "name": "ipython",
    "version": 3
   },
   "file_extension": ".py",
   "mimetype": "text/x-python",
   "name": "python",
   "nbconvert_exporter": "python",
   "pygments_lexer": "ipython3",
   "version": "3.8.8"
  }
 },
 "nbformat": 4,
 "nbformat_minor": 5
}
